{
 "cells": [
  {
   "cell_type": "code",
   "execution_count": 13,
   "metadata": {},
   "outputs": [
    {
     "name": "stdout",
     "output_type": "stream",
     "text": [
      "range(0, 5)\n",
      "0\n",
      "2\n",
      "4\n"
     ]
    }
   ],
   "source": [
    "print(range(5))\n",
    "for i in range(0,5,2):\n",
    "    print(i)"
   ]
  },
  {
   "cell_type": "code",
   "execution_count": 35,
   "metadata": {},
   "outputs": [
    {
     "name": "stdout",
     "output_type": "stream",
     "text": [
      "Built-in mutable sequence.\n",
      "\n",
      "If no argument is given, the constructor creates a new empty list.\n",
      "The argument must be an iterable if specified.\n",
      "[6, 7, 8, 9, 10]\n",
      "8\n",
      "6\n",
      "7\n",
      "8\n",
      "9\n",
      "10\n",
      "0 6\n",
      "1 7\n",
      "2 8\n",
      "3 9\n",
      "4 10\n"
     ]
    }
   ],
   "source": [
    "#List initialization\n",
    "list1 = [6,7,8,9,10]\n",
    "print(list1.__doc__)\n",
    "print(list1)\n",
    "print(list1[2])\n",
    "dir(list1)\n",
    "for i in list1:\n",
    "    print(i)\n",
    "for i,j in enumerate(list1):\n",
    "    print(i,j)\n",
    "for i in range(len(list1) -3):\n",
    "    print(list1[i])"
   ]
  },
  {
   "cell_type": "code",
   "execution_count": 18,
   "metadata": {},
   "outputs": [
    {
     "name": "stdout",
     "output_type": "stream",
     "text": [
      "{1, 2, 3}\n",
      "3\n",
      "{1, 2, 3, 4, 5}\n"
     ]
    }
   ],
   "source": [
    "#set initialization\n",
    "set1 ={1,2,3,3}\n",
    "print(set1)\n",
    "#To access the element for a particular location from set.\n",
    "print(list(set1)[2])\n",
    "\n",
    "#Removing duplicate values\n",
    "list1 = [1,2,2,3,4,4,5]\n",
    "set1= set(list1)\n",
    "print(set1)"
   ]
  },
  {
   "cell_type": "code",
   "execution_count": 1,
   "metadata": {},
   "outputs": [
    {
     "name": "stdout",
     "output_type": "stream",
     "text": [
      "dict_items([('name', 'Pavan'), ('occupation', 'software_engineer')])\n",
      "Pavan\n"
     ]
    }
   ],
   "source": [
    "#dict initialization\n",
    "dict1 = {\"name\":\"Pavan\",\"occupation\":\"software_engineer\"}\n",
    "print(dict1.items())\n",
    "print(dict1['name'])"
   ]
  },
  {
   "cell_type": "code",
   "execution_count": null,
   "metadata": {},
   "outputs": [],
   "source": [
    "#Tuples initialization\n",
    "tup1 = (1,2,3,4)\n",
    "print(tup1)\n",
    "print(tup1[2])"
   ]
  },
  {
   "cell_type": "code",
   "execution_count": null,
   "metadata": {},
   "outputs": [],
   "source": [
    "#List methods:\n",
    "#List: is a collection which is ordered and changeable.\n",
    "#Tuple: is a collection which is ordered and unchangeable.\n",
    "#Set: is collection which is unordered and unindexed.\n",
    "#Dictionary: is a collection which is unordered and changeable.\n",
    "\n",
    "#List methods in python(Reference: W3 schools)\n",
    "#append(), copy(), count(),clear(), extend(),index(),insert(), pop(),remove(), reverse(), sort()\n",
    "#few more from GeeksforGeeks: in, not in, len(), min(), max(), del.\n",
    "\n",
    "#Set methods: (Reference: W3 schools)\n",
    "#add(), clear(), difference(), difference_update(), discard(), intersection, pop(), update(), intersection_update(),\n",
    "# isdisjoint(), issubset(), issuperset(), remove(), symmetric_difference(), symmetric_difference_update(), union()\n",
    "\n",
    "#Tuple methods: (Reference: W3 Schools)\n",
    "# count(), index()\n",
    "\n",
    "# Dictionary methods:\n",
    "# clear(), copy(), fromkeys(), get(), items(), key(), pop(), popitem(), setdefault(), update(), values()"
   ]
  },
  {
   "cell_type": "code",
   "execution_count": 24,
   "metadata": {},
   "outputs": [
    {
     "name": "stdout",
     "output_type": "stream",
     "text": [
      "3\n"
     ]
    }
   ],
   "source": [
    "#Understanding list methods:\n",
    "#len():\n",
    "thislist = [\"apple\", \"banana\", \"cherry\"]\n",
    "print(len(thislist))"
   ]
  },
  {
   "cell_type": "code",
   "execution_count": 25,
   "metadata": {},
   "outputs": [
    {
     "name": "stdout",
     "output_type": "stream",
     "text": [
      "['cherry', 'apple']\n"
     ]
    }
   ],
   "source": [
    "thislist.remove(\"banana\")\n",
    "thislist.reverse()\n",
    "print(thislist)"
   ]
  },
  {
   "cell_type": "code",
   "execution_count": 4,
   "metadata": {},
   "outputs": [
    {
     "data": {
      "text/plain": [
       "[]"
      ]
     },
     "execution_count": 4,
     "metadata": {},
     "output_type": "execute_result"
    }
   ],
   "source": [
    "#Removing list elements completely.\n",
    "thislist.clear()\n",
    "thislist"
   ]
  },
  {
   "cell_type": "code",
   "execution_count": null,
   "metadata": {},
   "outputs": [],
   "source": []
  }
 ],
 "metadata": {
  "kernelspec": {
   "display_name": "Python 3",
   "language": "python",
   "name": "python3"
  },
  "language_info": {
   "codemirror_mode": {
    "name": "ipython",
    "version": 3
   },
   "file_extension": ".py",
   "mimetype": "text/x-python",
   "name": "python",
   "nbconvert_exporter": "python",
   "pygments_lexer": "ipython3",
   "version": "3.8.5"
  }
 },
 "nbformat": 4,
 "nbformat_minor": 4
}
