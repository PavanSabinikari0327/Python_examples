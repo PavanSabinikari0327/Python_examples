{
 "cells": [
  {
   "cell_type": "code",
   "execution_count": 26,
   "metadata": {},
   "outputs": [
    {
     "name": "stdout",
     "output_type": "stream",
     "text": [
      "25\n"
     ]
    }
   ],
   "source": [
    "def square(a):\n",
    "    return a * a\n",
    "\n",
    "print(square(5))"
   ]
  },
  {
   "cell_type": "code",
   "execution_count": 27,
   "metadata": {},
   "outputs": [
    {
     "name": "stdout",
     "output_type": "stream",
     "text": [
      "25\n"
     ]
    }
   ],
   "source": [
    "#Above function converting to lambda\n",
    "square_using_lambda = lambda a : a * a\n",
    "print(square_using_lambda(5))"
   ]
  },
  {
   "cell_type": "code",
   "execution_count": 28,
   "metadata": {},
   "outputs": [
    {
     "name": "stdout",
     "output_type": "stream",
     "text": [
      "above average\n"
     ]
    }
   ],
   "source": [
    "average = 60\n",
    "def return_status(marks):\n",
    "    if marks > average:\n",
    "        return 'above average'\n",
    "    elif marks <= average:\n",
    "        return 'below average'\n",
    "print(return_status(75))"
   ]
  },
  {
   "cell_type": "code",
   "execution_count": 29,
   "metadata": {},
   "outputs": [
    {
     "name": "stdout",
     "output_type": "stream",
     "text": [
      "below average\n"
     ]
    }
   ],
   "source": [
    "#Above can be written in a beautifying code\n",
    "return_status = lambda marks: 'above average' if marks > average else 'below average'\n",
    "print(return_status(55))\n",
    "#Notify that if condition and function is beautified code."
   ]
  },
  {
   "cell_type": "code",
   "execution_count": 30,
   "metadata": {},
   "outputs": [
    {
     "name": "stdout",
     "output_type": "stream",
     "text": [
      "[1, 4, 9, 16, 25]\n"
     ]
    }
   ],
   "source": [
    "#map function. Example:  f(x) = x^2 which means for each x value return value is square of x.\n",
    "domain = [1,2,3,4,5]\n",
    "map_range = map(lambda x: x *x, domain)\n",
    "print(list(map_range))\n"
   ]
  },
  {
   "cell_type": "code",
   "execution_count": 31,
   "metadata": {},
   "outputs": [
    {
     "name": "stdout",
     "output_type": "stream",
     "text": [
      "[4, 5]\n"
     ]
    }
   ],
   "source": [
    "#filter function. Example: f(x) = y where y > 3. THis is similar to where clause\n",
    "filter_range = filter(lambda x: x > 3, domain)\n",
    "print(list(filter_range))"
   ]
  },
  {
   "cell_type": "code",
   "execution_count": 35,
   "metadata": {},
   "outputs": [
    {
     "name": "stdout",
     "output_type": "stream",
     "text": [
      "[4, 5, 6, 7]\n",
      "25\n"
     ]
    }
   ],
   "source": [
    "#reduce function. Example f(x) = y where y is sum all values in domain. \n",
    "import functools\n",
    "source = [4,5,6,7]\n",
    "print(source)\n",
    "reduce_range = functools.reduce( lambda x, y: x + y, source, 3)\n",
    "print(reduce_range)"
   ]
  },
  {
   "cell_type": "code",
   "execution_count": null,
   "metadata": {},
   "outputs": [],
   "source": [
    "#sorting list using sort method and sorted function\n",
    "list1 = [44, 10, 9, 2, 54, 15]\n",
    "list1.sort(reverse=True)\n",
    "print(list1)\n"
   ]
  },
  {
   "cell_type": "code",
   "execution_count": 11,
   "metadata": {},
   "outputs": [
    {
     "name": "stdout",
     "output_type": "stream",
     "text": [
      "[2, 9, 10, 15, 44, 54]\n"
     ]
    }
   ],
   "source": [
    "#sort list using sorted function\n",
    "list3 = [44, 10, 9, 2, 54, 15]\n",
    "print(sorted(list3))"
   ]
  },
  {
   "cell_type": "code",
   "execution_count": 10,
   "metadata": {},
   "outputs": [
    {
     "name": "stdout",
     "output_type": "stream",
     "text": [
      "[('abc', 121), ('abc', 148), ('abc', 221), ('abc', 231)]\n",
      "[('akash', 5), ('rishav', 10), ('gaurav', 15), ('ram', 20)]\n"
     ]
    }
   ],
   "source": [
    "#print sorted tuples by values\n",
    "print(sorted([('abc', 121),('abc', 231),('abc', 148), ('abc',221)], key=lambda x: x[1]))\n",
    "tup = [('rishav', 10), ('akash', 5), ('ram', 20), ('gaurav', 15)]\n",
    "tup1 = sorted(tup, key = lambda x : x[1])\n",
    "print(tup1)"
   ]
  },
  {
   "cell_type": "code",
   "execution_count": 1,
   "metadata": {},
   "outputs": [
    {
     "name": "stdout",
     "output_type": "stream",
     "text": [
      "{'red': 1, 'blue': 3, 'green': 2, 'yellow': 1}\n",
      "[('blue', 3), ('green', 2), ('red', 1), ('yellow', 1)]\n"
     ]
    }
   ],
   "source": [
    "#print number of occurences in a list\n",
    "from collections import Counter\n",
    "list2 = [\"red\",\"blue\",\"green\",\"green\",\"blue\",\"yellow\",\"blue\"]\n",
    "c = dict(Counter(list2))\n",
    "print(c)\n",
    "print(sorted(c.items(),key = lambda x: x[1], reverse =True))"
   ]
  },
  {
   "cell_type": "code",
   "execution_count": 4,
   "metadata": {},
   "outputs": [
    {
     "name": "stdout",
     "output_type": "stream",
     "text": [
      "['Cat', 'c', 'Bombay', 'b', 'Array', 'a']\n"
     ]
    }
   ],
   "source": [
    "#sorting list using sort method and sorted function\n",
    "list1 = [\"Array\", \"a\", \"b\", \"Bombay\", \"Cat\", \"c\"]\n",
    "list1.sort(key =str.lower,reverse = True)\n",
    "print(list1)"
   ]
  },
  {
   "cell_type": "code",
   "execution_count": null,
   "metadata": {},
   "outputs": [],
   "source": []
  }
 ],
 "metadata": {
  "kernelspec": {
   "display_name": "Python 3",
   "language": "python",
   "name": "python3"
  },
  "language_info": {
   "codemirror_mode": {
    "name": "ipython",
    "version": 3
   },
   "file_extension": ".py",
   "mimetype": "text/x-python",
   "name": "python",
   "nbconvert_exporter": "python",
   "pygments_lexer": "ipython3",
   "version": "3.8.5"
  }
 },
 "nbformat": 4,
 "nbformat_minor": 4
}
